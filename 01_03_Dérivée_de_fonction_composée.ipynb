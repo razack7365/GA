{
  "nbformat": 4,
  "nbformat_minor": 0,
  "metadata": {
    "colab": {
      "provenance": [],
      "authorship_tag": "ABX9TyNv0MtxGRUCJSuqhsN0nvT6",
      "include_colab_link": true
    },
    "kernelspec": {
      "name": "python3",
      "display_name": "Python 3"
    },
    "language_info": {
      "name": "python"
    }
  },
  "cells": [
    {
      "cell_type": "markdown",
      "metadata": {
        "id": "view-in-github",
        "colab_type": "text"
      },
      "source": [
        "<a href=\"https://colab.research.google.com/github/razack7365/GA/blob/main/01_03_D%C3%A9riv%C3%A9e_de_fonction_compos%C3%A9e.ipynb\" target=\"_parent\"><img src=\"https://colab.research.google.com/assets/colab-badge.svg\" alt=\"Open In Colab\"/></a>"
      ]
    },
    {
      "cell_type": "code",
      "execution_count": 1,
      "metadata": {
        "id": "gXA6ll6MlT2K"
      },
      "outputs": [],
      "source": [
        "def double (x):\n",
        "  return 2 * x"
      ]
    },
    {
      "cell_type": "code",
      "source": [
        "def caree (x):\n",
        "  return  x ** 2"
      ],
      "metadata": {
        "id": "wRd3NESopx7B"
      },
      "execution_count": 9,
      "outputs": []
    },
    {
      "cell_type": "code",
      "source": [
        "def triple_caree (x):\n",
        "  return  3 * x ** 2"
      ],
      "metadata": {
        "id": "7FnfKLffp7QY"
      },
      "execution_count": 12,
      "outputs": []
    },
    {
      "cell_type": "code",
      "source": [
        "def derivee (fonction, point):\n",
        "  variation = fonction(point + 0.0001) - fonction(point)\n",
        "  taux = variation / 0.0001\n",
        "  return taux"
      ],
      "metadata": {
        "id": "iEld8pQPlptM"
      },
      "execution_count": 6,
      "outputs": []
    },
    {
      "cell_type": "code",
      "source": [
        "derivee (double,3)"
      ],
      "metadata": {
        "colab": {
          "base_uri": "https://localhost:8080/"
        },
        "id": "jhR8IbZSmKHW",
        "outputId": "4d88d5d5-ab35-4628-889d-77f774717f24"
      },
      "execution_count": 7,
      "outputs": [
        {
          "output_type": "execute_result",
          "data": {
            "text/plain": [
              "2.0000000000042206"
            ]
          },
          "metadata": {},
          "execution_count": 7
        }
      ]
    },
    {
      "cell_type": "code",
      "source": [
        "temp1 = double (3)\n",
        "temp2 = caree (temp1)"
      ],
      "metadata": {
        "id": "5rwDPs9br-so"
      },
      "execution_count": 10,
      "outputs": []
    },
    {
      "cell_type": "code",
      "source": [
        "derivee(triple_caree,temp2) * derivee(caree,temp1) * derivee(double,3)"
      ],
      "metadata": {
        "colab": {
          "base_uri": "https://localhost:8080/"
        },
        "id": "dQpyZoovsYFG",
        "outputId": "544f1eb8-59b1-4b55-f594-9de95fff0d26"
      },
      "execution_count": 13,
      "outputs": [
        {
          "output_type": "execute_result",
          "data": {
            "text/plain": [
              "5184.050400212952"
            ]
          },
          "metadata": {},
          "execution_count": 13
        }
      ]
    },
    {
      "cell_type": "code",
      "source": [
        "def compose(x):\n",
        "  temp1 = double (x)\n",
        "  temp2 = caree (temp1)\n",
        "  return triple_caree(temp2)"
      ],
      "metadata": {
        "id": "9JoEI7kxt0NK"
      },
      "execution_count": 18,
      "outputs": []
    },
    {
      "cell_type": "code",
      "source": [
        "derivee(compose,3)"
      ],
      "metadata": {
        "colab": {
          "base_uri": "https://localhost:8080/"
        },
        "id": "dpw7-78PuK9D",
        "outputId": "d4a96654-eb21-48c2-d2a9-f9821ee379ca"
      },
      "execution_count": 19,
      "outputs": [
        {
          "output_type": "execute_result",
          "data": {
            "text/plain": [
              "5184.2592057710135"
            ]
          },
          "metadata": {},
          "execution_count": 19
        }
      ]
    },
    {
      "cell_type": "code",
      "source": [],
      "metadata": {
        "id": "pnp2DNE3u1cz"
      },
      "execution_count": null,
      "outputs": []
    },
    {
      "cell_type": "code",
      "source": [],
      "metadata": {
        "id": "YSd98EJRuUE5"
      },
      "execution_count": null,
      "outputs": []
    }
  ]
}